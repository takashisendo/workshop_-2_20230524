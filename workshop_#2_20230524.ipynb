{
 "cells": [
  {
   "cell_type": "code",
   "execution_count": null,
   "id": "769fd1e2",
   "metadata": {
    "is_executing": true
   },
   "outputs": [],
   "source": [
    "import uuid\n",
    "\n",
    "def generate_itn_did():\n",
    "    # Generate a random UUID\n",
    "    did_uuid = str(uuid.uuid4())\n",
    "\n",
    "    # Build the ITN DID string\n",
    "    did = \"did:itn:\" + did_uuid\n",
    "\n",
    "    return did\n",
    "\n",
    "# Generate an ITN DID\n",
    "itn_did = generate_itn_did()\n",
    "print(\"Generated ITN DID:\", itn_did)\n"
   ]
  },
  {
   "cell_type": "code",
   "execution_count": null,
   "id": "8b0c7c09",
   "metadata": {},
   "outputs": [],
   "source": []
  }
 ],
 "metadata": {
  "kernelspec": {
   "display_name": "Python 3 (ipykernel)",
   "language": "python",
   "name": "python3"
  },
  "language_info": {
   "codemirror_mode": {
    "name": "ipython",
    "version": 3
   },
   "file_extension": ".py",
   "mimetype": "text/x-python",
   "name": "python",
   "nbconvert_exporter": "python",
   "pygments_lexer": "ipython3",
   "version": "3.9.16"
  }
 },
 "nbformat": 4,
 "nbformat_minor": 5
}
